{
 "cells": [
  {
   "cell_type": "code",
   "execution_count": 1,
   "id": "a7fbdd01",
   "metadata": {
    "execution": {
     "iopub.execute_input": "2024-01-19T16:31:51.111978Z",
     "iopub.status.busy": "2024-01-19T16:31:51.111057Z",
     "iopub.status.idle": "2024-01-19T16:31:51.125102Z",
     "shell.execute_reply": "2024-01-19T16:31:51.124131Z"
    },
    "papermill": {
     "duration": 0.022484,
     "end_time": "2024-01-19T16:31:51.127645",
     "exception": false,
     "start_time": "2024-01-19T16:31:51.105161",
     "status": "completed"
    },
    "tags": [
     "parameters"
    ]
   },
   "outputs": [],
   "source": [
    "pi = 3.14\n",
    "radius = 5"
   ]
  },
  {
   "cell_type": "code",
   "execution_count": 2,
   "id": "fb3ab12a",
   "metadata": {
    "execution": {
     "iopub.execute_input": "2024-01-19T16:31:51.133516Z",
     "iopub.status.busy": "2024-01-19T16:31:51.133026Z",
     "iopub.status.idle": "2024-01-19T16:31:51.136646Z",
     "shell.execute_reply": "2024-01-19T16:31:51.135941Z"
    },
    "papermill": {
     "duration": 0.008679,
     "end_time": "2024-01-19T16:31:51.138629",
     "exception": false,
     "start_time": "2024-01-19T16:31:51.129950",
     "status": "completed"
    },
    "tags": [
     "injected-parameters"
    ]
   },
   "outputs": [],
   "source": [
    "# Parameters\n",
    "pi = 3.14\n",
    "radius = 9\n"
   ]
  },
  {
   "cell_type": "code",
   "execution_count": 3,
   "id": "14e39e45",
   "metadata": {
    "execution": {
     "iopub.execute_input": "2024-01-19T16:31:51.143467Z",
     "iopub.status.busy": "2024-01-19T16:31:51.142984Z",
     "iopub.status.idle": "2024-01-19T16:31:51.150538Z",
     "shell.execute_reply": "2024-01-19T16:31:51.149763Z"
    },
    "papermill": {
     "duration": 0.013189,
     "end_time": "2024-01-19T16:31:51.153615",
     "exception": false,
     "start_time": "2024-01-19T16:31:51.140426",
     "status": "completed"
    },
    "tags": []
   },
   "outputs": [
    {
     "data": {
      "text/plain": [
       "56.52"
      ]
     },
     "execution_count": 3,
     "metadata": {},
     "output_type": "execute_result"
    }
   ],
   "source": [
    "d = 2*pi*radius\n",
    "\n",
    "d"
   ]
  },
  {
   "cell_type": "code",
   "execution_count": 4,
   "id": "192d367f",
   "metadata": {
    "execution": {
     "iopub.execute_input": "2024-01-19T16:31:51.158340Z",
     "iopub.status.busy": "2024-01-19T16:31:51.158041Z",
     "iopub.status.idle": "2024-01-19T16:31:51.162902Z",
     "shell.execute_reply": "2024-01-19T16:31:51.162029Z"
    },
    "papermill": {
     "duration": 0.010128,
     "end_time": "2024-01-19T16:31:51.165488",
     "exception": false,
     "start_time": "2024-01-19T16:31:51.155360",
     "status": "completed"
    },
    "tags": []
   },
   "outputs": [
    {
     "data": {
      "text/plain": [
       "254.34"
      ]
     },
     "execution_count": 4,
     "metadata": {},
     "output_type": "execute_result"
    }
   ],
   "source": [
    "area = pi*radius**2\n",
    "\n",
    "area"
   ]
  },
  {
   "cell_type": "code",
   "execution_count": 5,
   "id": "bb5805c6",
   "metadata": {
    "execution": {
     "iopub.execute_input": "2024-01-19T16:31:51.170832Z",
     "iopub.status.busy": "2024-01-19T16:31:51.170505Z",
     "iopub.status.idle": "2024-01-19T16:31:51.583802Z",
     "shell.execute_reply": "2024-01-19T16:31:51.582903Z"
    },
    "papermill": {
     "duration": 0.418475,
     "end_time": "2024-01-19T16:31:51.585884",
     "exception": false,
     "start_time": "2024-01-19T16:31:51.167409",
     "status": "completed"
    },
    "tags": []
   },
   "outputs": [
    {
     "data": {
      "text/html": [
       "<div>\n",
       "<style scoped>\n",
       "    .dataframe tbody tr th:only-of-type {\n",
       "        vertical-align: middle;\n",
       "    }\n",
       "\n",
       "    .dataframe tbody tr th {\n",
       "        vertical-align: top;\n",
       "    }\n",
       "\n",
       "    .dataframe thead th {\n",
       "        text-align: right;\n",
       "    }\n",
       "</style>\n",
       "<table border=\"1\" class=\"dataframe\">\n",
       "  <thead>\n",
       "    <tr style=\"text-align: right;\">\n",
       "      <th></th>\n",
       "      <th>area</th>\n",
       "      <th>circumference</th>\n",
       "    </tr>\n",
       "  </thead>\n",
       "  <tbody>\n",
       "    <tr>\n",
       "      <th>0</th>\n",
       "      <td>254.34</td>\n",
       "      <td>56.52</td>\n",
       "    </tr>\n",
       "  </tbody>\n",
       "</table>\n",
       "</div>"
      ],
      "text/plain": [
       "     area  circumference\n",
       "0  254.34          56.52"
      ]
     },
     "execution_count": 5,
     "metadata": {},
     "output_type": "execute_result"
    }
   ],
   "source": [
    "import pandas as pd\n",
    "\n",
    "df = pd.DataFrame(data={\n",
    "    \"area\": [area],\n",
    "    \"circumference\": [d]\n",
    "})\n",
    "\n",
    "df"
   ]
  },
  {
   "cell_type": "code",
   "execution_count": 6,
   "id": "e77fedcd",
   "metadata": {
    "execution": {
     "iopub.execute_input": "2024-01-19T16:31:51.593046Z",
     "iopub.status.busy": "2024-01-19T16:31:51.592692Z",
     "iopub.status.idle": "2024-01-19T16:31:52.149711Z",
     "shell.execute_reply": "2024-01-19T16:31:52.149068Z"
    },
    "papermill": {
     "duration": 0.563415,
     "end_time": "2024-01-19T16:31:52.151677",
     "exception": false,
     "start_time": "2024-01-19T16:31:51.588262",
     "status": "completed"
    },
    "tags": []
   },
   "outputs": [
    {
     "data": {
      "text/plain": [
       "<Axes: xlabel='area', ylabel='circumference'>"
      ]
     },
     "execution_count": 6,
     "metadata": {},
     "output_type": "execute_result"
    },
    {
     "data": {
      "image/png": "[encoded data removed]",
      "text/plain": [
       "<Figure size 640x480 with 1 Axes>"
      ]
     },
     "metadata": {},
     "output_type": "display_data"
    }
   ],
   "source": [
    "import seaborn as sns\n",
    "\n",
    "sns.scatterplot(x=df[\"area\"], y=df[\"circumference\"])"
   ]
  },
  {
   "cell_type": "code",
   "execution_count": null,
   "id": "77e10120",
   "metadata": {
    "papermill": {
     "duration": 0.00208,
     "end_time": "2024-01-19T16:31:52.156180",
     "exception": false,
     "start_time": "2024-01-19T16:31:52.154100",
     "status": "completed"
    },
    "tags": []
   },
   "outputs": [],
   "source": []
  }
 ],
 "metadata": {
  "kernelspec": {
   "display_name": "papermill-test-udrOzcHe-py3.10",
   "language": "python",
   "name": "python3"
  },
  "language_info": {
   "codemirror_mode": {
    "name": "ipython",
    "version": 3
   },
   "file_extension": ".py",
   "mimetype": "text/x-python",
   "name": "python",
   "nbconvert_exporter": "python",
   "pygments_lexer": "ipython3",
   "version": "3.10.2"
  },
  "papermill": {
   "default_parameters": {},
   "duration": 2.629909,
   "end_time": "2024-01-19T16:31:52.482007",
   "environment_variables": {},
   "exception": null,
   "input_path": "./main.ipynb",
   "output_path": "./output/output-notebook-3_14-9.ipynb",
   "parameters": {
    "pi": 3.14,
    "radius": 9
   },
   "start_time": "2024-01-19T16:31:49.852098",
   "version": "2.5.0"
  }
 },
 "nbformat": 4,
 "nbformat_minor": 5
}