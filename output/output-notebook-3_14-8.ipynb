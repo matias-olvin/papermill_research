{
 "cells": [
  {
   "cell_type": "code",
   "execution_count": 1,
   "id": "56734b26",
   "metadata": {
    "execution": {
     "iopub.execute_input": "2024-01-19T16:31:46.501447Z",
     "iopub.status.busy": "2024-01-19T16:31:46.500936Z",
     "iopub.status.idle": "2024-01-19T16:31:46.509570Z",
     "shell.execute_reply": "2024-01-19T16:31:46.508778Z"
    },
    "papermill": {
     "duration": 0.015497,
     "end_time": "2024-01-19T16:31:46.512596",
     "exception": false,
     "start_time": "2024-01-19T16:31:46.497099",
     "status": "completed"
    },
    "tags": [
     "parameters"
    ]
   },
   "outputs": [],
   "source": [
    "pi = 3.14\n",
    "radius = 5"
   ]
  },
  {
   "cell_type": "code",
   "execution_count": 2,
   "id": "37c72cbb",
   "metadata": {
    "execution": {
     "iopub.execute_input": "2024-01-19T16:31:46.519051Z",
     "iopub.status.busy": "2024-01-19T16:31:46.518619Z",
     "iopub.status.idle": "2024-01-19T16:31:46.523064Z",
     "shell.execute_reply": "2024-01-19T16:31:46.522197Z"
    },
    "papermill": {
     "duration": 0.01064,
     "end_time": "2024-01-19T16:31:46.525133",
     "exception": false,
     "start_time": "2024-01-19T16:31:46.514493",
     "status": "completed"
    },
    "tags": [
     "injected-parameters"
    ]
   },
   "outputs": [],
   "source": [
    "# Parameters\n",
    "pi = 3.14\n",
    "radius = 8\n"
   ]
  },
  {
   "cell_type": "code",
   "execution_count": 3,
   "id": "d9fe3ee1",
   "metadata": {
    "execution": {
     "iopub.execute_input": "2024-01-19T16:31:46.531920Z",
     "iopub.status.busy": "2024-01-19T16:31:46.531544Z",
     "iopub.status.idle": "2024-01-19T16:31:46.541057Z",
     "shell.execute_reply": "2024-01-19T16:31:46.540005Z"
    },
    "papermill": {
     "duration": 0.016976,
     "end_time": "2024-01-19T16:31:46.544239",
     "exception": false,
     "start_time": "2024-01-19T16:31:46.527263",
     "status": "completed"
    },
    "tags": []
   },
   "outputs": [
    {
     "data": {
      "text/plain": [
       "50.24"
      ]
     },
     "execution_count": 3,
     "metadata": {},
     "output_type": "execute_result"
    }
   ],
   "source": [
    "d = 2*pi*radius\n",
    "\n",
    "d"
   ]
  },
  {
   "cell_type": "code",
   "execution_count": 4,
   "id": "f0567a59",
   "metadata": {
    "execution": {
     "iopub.execute_input": "2024-01-19T16:31:46.549695Z",
     "iopub.status.busy": "2024-01-19T16:31:46.549379Z",
     "iopub.status.idle": "2024-01-19T16:31:46.554991Z",
     "shell.execute_reply": "2024-01-19T16:31:46.554211Z"
    },
    "papermill": {
     "duration": 0.010933,
     "end_time": "2024-01-19T16:31:46.557181",
     "exception": false,
     "start_time": "2024-01-19T16:31:46.546248",
     "status": "completed"
    },
    "tags": []
   },
   "outputs": [
    {
     "data": {
      "text/plain": [
       "200.96"
      ]
     },
     "execution_count": 4,
     "metadata": {},
     "output_type": "execute_result"
    }
   ],
   "source": [
    "area = pi*radius**2\n",
    "\n",
    "area"
   ]
  },
  {
   "cell_type": "code",
   "execution_count": 5,
   "id": "f86dd196",
   "metadata": {
    "execution": {
     "iopub.execute_input": "2024-01-19T16:31:46.561892Z",
     "iopub.status.busy": "2024-01-19T16:31:46.561625Z",
     "iopub.status.idle": "2024-01-19T16:31:47.556337Z",
     "shell.execute_reply": "2024-01-19T16:31:47.554520Z"
    },
    "papermill": {
     "duration": 1.007012,
     "end_time": "2024-01-19T16:31:47.565953",
     "exception": false,
     "start_time": "2024-01-19T16:31:46.558941",
     "status": "completed"
    },
    "tags": []
   },
   "outputs": [
    {
     "data": {
      "text/html": [
       "<div>\n",
       "<style scoped>\n",
       "    .dataframe tbody tr th:only-of-type {\n",
       "        vertical-align: middle;\n",
       "    }\n",
       "\n",
       "    .dataframe tbody tr th {\n",
       "        vertical-align: top;\n",
       "    }\n",
       "\n",
       "    .dataframe thead th {\n",
       "        text-align: right;\n",
       "    }\n",
       "</style>\n",
       "<table border=\"1\" class=\"dataframe\">\n",
       "  <thead>\n",
       "    <tr style=\"text-align: right;\">\n",
       "      <th></th>\n",
       "      <th>area</th>\n",
       "      <th>circumference</th>\n",
       "    </tr>\n",
       "  </thead>\n",
       "  <tbody>\n",
       "    <tr>\n",
       "      <th>0</th>\n",
       "      <td>200.96</td>\n",
       "      <td>50.24</td>\n",
       "    </tr>\n",
       "  </tbody>\n",
       "</table>\n",
       "</div>"
      ],
      "text/plain": [
       "     area  circumference\n",
       "0  200.96          50.24"
      ]
     },
     "execution_count": 5,
     "metadata": {},
     "output_type": "execute_result"
    }
   ],
   "source": [
    "import pandas as pd\n",
    "\n",
    "df = pd.DataFrame(data={\n",
    "    \"area\": [area],\n",
    "    \"circumference\": [d]\n",
    "})\n",
    "\n",
    "df"
   ]
  },
  {
   "cell_type": "code",
   "execution_count": 6,
   "id": "409ce6a0",
   "metadata": {
    "execution": {
     "iopub.execute_input": "2024-01-19T16:31:47.591425Z",
     "iopub.status.busy": "2024-01-19T16:31:47.590564Z",
     "iopub.status.idle": "2024-01-19T16:31:49.175656Z",
     "shell.execute_reply": "2024-01-19T16:31:49.167790Z"
    },
    "papermill": {
     "duration": 1.616086,
     "end_time": "2024-01-19T16:31:49.198200",
     "exception": false,
     "start_time": "2024-01-19T16:31:47.582114",
     "status": "completed"
    },
    "tags": []
   },
   "outputs": [
    {
     "data": {
      "text/plain": [
       "<Axes: xlabel='area', ylabel='circumference'>"
      ]
     },
     "execution_count": 6,
     "metadata": {},
     "output_type": "execute_result"
    },
    {
     "data": {
      "image/png": "[encoded data removed]",
      "text/plain": [
       "<Figure size 640x480 with 1 Axes>"
      ]
     },
     "metadata": {},
     "output_type": "display_data"
    }
   ],
   "source": [
    "import seaborn as sns\n",
    "\n",
    "sns.scatterplot(x=df[\"area\"], y=df[\"circumference\"])"
   ]
  },
  {
   "cell_type": "code",
   "execution_count": null,
   "id": "a1d51ede",
   "metadata": {
    "papermill": {
     "duration": 0.01572,
     "end_time": "2024-01-19T16:31:49.228762",
     "exception": false,
     "start_time": "2024-01-19T16:31:49.213042",
     "status": "completed"
    },
    "tags": []
   },
   "outputs": [],
   "source": []
  }
 ],
 "metadata": {
  "kernelspec": {
   "display_name": "papermill-test-udrOzcHe-py3.10",
   "language": "python",
   "name": "python3"
  },
  "language_info": {
   "codemirror_mode": {
    "name": "ipython",
    "version": 3
   },
   "file_extension": ".py",
   "mimetype": "text/x-python",
   "name": "python",
   "nbconvert_exporter": "python",
   "pygments_lexer": "ipython3",
   "version": "3.10.2"
  },
  "papermill": {
   "default_parameters": {},
   "duration": 5.242285,
   "end_time": "2024-01-19T16:31:49.899616",
   "environment_variables": {},
   "exception": null,
   "input_path": "./main.ipynb",
   "output_path": "./output/output-notebook-3_14-8.ipynb",
   "parameters": {
    "pi": 3.14,
    "radius": 8
   },
   "start_time": "2024-01-19T16:31:44.657331",
   "version": "2.5.0"
  }
 },
 "nbformat": 4,
 "nbformat_minor": 5
}