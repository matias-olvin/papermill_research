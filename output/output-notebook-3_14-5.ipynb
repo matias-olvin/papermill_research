{
 "cells": [
  {
   "cell_type": "code",
   "execution_count": 1,
   "id": "c039a581",
   "metadata": {
    "execution": {
     "iopub.execute_input": "2024-01-19T16:31:46.585679Z",
     "iopub.status.busy": "2024-01-19T16:31:46.585318Z",
     "iopub.status.idle": "2024-01-19T16:31:46.594467Z",
     "shell.execute_reply": "2024-01-19T16:31:46.593708Z"
    },
    "papermill": {
     "duration": 0.015287,
     "end_time": "2024-01-19T16:31:46.597263",
     "exception": false,
     "start_time": "2024-01-19T16:31:46.581976",
     "status": "completed"
    },
    "tags": [
     "parameters"
    ]
   },
   "outputs": [],
   "source": [
    "pi = 3.14\n",
    "radius = 5"
   ]
  },
  {
   "cell_type": "code",
   "execution_count": 2,
   "id": "14acbe82",
   "metadata": {
    "execution": {
     "iopub.execute_input": "2024-01-19T16:31:46.603975Z",
     "iopub.status.busy": "2024-01-19T16:31:46.603667Z",
     "iopub.status.idle": "2024-01-19T16:31:46.607851Z",
     "shell.execute_reply": "2024-01-19T16:31:46.606688Z"
    },
    "papermill": {
     "duration": 0.011565,
     "end_time": "2024-01-19T16:31:46.610890",
     "exception": false,
     "start_time": "2024-01-19T16:31:46.599325",
     "status": "completed"
    },
    "tags": [
     "injected-parameters"
    ]
   },
   "outputs": [],
   "source": [
    "# Parameters\n",
    "pi = 3.14\n",
    "radius = 5\n"
   ]
  },
  {
   "cell_type": "code",
   "execution_count": 3,
   "id": "ce5ea8f1",
   "metadata": {
    "execution": {
     "iopub.execute_input": "2024-01-19T16:31:46.620228Z",
     "iopub.status.busy": "2024-01-19T16:31:46.619814Z",
     "iopub.status.idle": "2024-01-19T16:31:46.630031Z",
     "shell.execute_reply": "2024-01-19T16:31:46.628700Z"
    },
    "papermill": {
     "duration": 0.026331,
     "end_time": "2024-01-19T16:31:46.639424",
     "exception": false,
     "start_time": "2024-01-19T16:31:46.613093",
     "status": "completed"
    },
    "tags": []
   },
   "outputs": [
    {
     "data": {
      "text/plain": [
       "31.400000000000002"
      ]
     },
     "execution_count": 3,
     "metadata": {},
     "output_type": "execute_result"
    }
   ],
   "source": [
    "d = 2*pi*radius\n",
    "\n",
    "d"
   ]
  },
  {
   "cell_type": "code",
   "execution_count": 4,
   "id": "694e6391",
   "metadata": {
    "execution": {
     "iopub.execute_input": "2024-01-19T16:31:46.658616Z",
     "iopub.status.busy": "2024-01-19T16:31:46.658206Z",
     "iopub.status.idle": "2024-01-19T16:31:46.664094Z",
     "shell.execute_reply": "2024-01-19T16:31:46.663085Z"
    },
    "papermill": {
     "duration": 0.030717,
     "end_time": "2024-01-19T16:31:46.679402",
     "exception": false,
     "start_time": "2024-01-19T16:31:46.648685",
     "status": "completed"
    },
    "tags": []
   },
   "outputs": [
    {
     "data": {
      "text/plain": [
       "78.5"
      ]
     },
     "execution_count": 4,
     "metadata": {},
     "output_type": "execute_result"
    }
   ],
   "source": [
    "area = pi*radius**2\n",
    "\n",
    "area"
   ]
  },
  {
   "cell_type": "code",
   "execution_count": 5,
   "id": "654bf44b",
   "metadata": {
    "execution": {
     "iopub.execute_input": "2024-01-19T16:31:46.694041Z",
     "iopub.status.busy": "2024-01-19T16:31:46.693649Z",
     "iopub.status.idle": "2024-01-19T16:31:47.556696Z",
     "shell.execute_reply": "2024-01-19T16:31:47.555308Z"
    },
    "papermill": {
     "duration": 0.884816,
     "end_time": "2024-01-19T16:31:47.572238",
     "exception": false,
     "start_time": "2024-01-19T16:31:46.687422",
     "status": "completed"
    },
    "tags": []
   },
   "outputs": [
    {
     "data": {
      "text/html": [
       "<div>\n",
       "<style scoped>\n",
       "    .dataframe tbody tr th:only-of-type {\n",
       "        vertical-align: middle;\n",
       "    }\n",
       "\n",
       "    .dataframe tbody tr th {\n",
       "        vertical-align: top;\n",
       "    }\n",
       "\n",
       "    .dataframe thead th {\n",
       "        text-align: right;\n",
       "    }\n",
       "</style>\n",
       "<table border=\"1\" class=\"dataframe\">\n",
       "  <thead>\n",
       "    <tr style=\"text-align: right;\">\n",
       "      <th></th>\n",
       "      <th>area</th>\n",
       "      <th>circumference</th>\n",
       "    </tr>\n",
       "  </thead>\n",
       "  <tbody>\n",
       "    <tr>\n",
       "      <th>0</th>\n",
       "      <td>78.5</td>\n",
       "      <td>31.4</td>\n",
       "    </tr>\n",
       "  </tbody>\n",
       "</table>\n",
       "</div>"
      ],
      "text/plain": [
       "   area  circumference\n",
       "0  78.5           31.4"
      ]
     },
     "execution_count": 5,
     "metadata": {},
     "output_type": "execute_result"
    }
   ],
   "source": [
    "import pandas as pd\n",
    "\n",
    "df = pd.DataFrame(data={\n",
    "    \"area\": [area],\n",
    "    \"circumference\": [d]\n",
    "})\n",
    "\n",
    "df"
   ]
  },
  {
   "cell_type": "code",
   "execution_count": 6,
   "id": "512c969d",
   "metadata": {
    "execution": {
     "iopub.execute_input": "2024-01-19T16:31:47.591277Z",
     "iopub.status.busy": "2024-01-19T16:31:47.590486Z",
     "iopub.status.idle": "2024-01-19T16:31:49.175137Z",
     "shell.execute_reply": "2024-01-19T16:31:49.165043Z"
    },
    "papermill": {
     "duration": 1.614863,
     "end_time": "2024-01-19T16:31:49.193562",
     "exception": false,
     "start_time": "2024-01-19T16:31:47.578699",
     "status": "completed"
    },
    "tags": []
   },
   "outputs": [
    {
     "data": {
      "text/plain": [
       "<Axes: xlabel='area', ylabel='circumference'>"
      ]
     },
     "execution_count": 6,
     "metadata": {},
     "output_type": "execute_result"
    },
    {
     "data": {
      "image/png": "[encoded data removed]",
      "text/plain": [
       "<Figure size 640x480 with 1 Axes>"
      ]
     },
     "metadata": {},
     "output_type": "display_data"
    }
   ],
   "source": [
    "import seaborn as sns\n",
    "\n",
    "sns.scatterplot(x=df[\"area\"], y=df[\"circumference\"])"
   ]
  },
  {
   "cell_type": "code",
   "execution_count": null,
   "id": "49751675",
   "metadata": {
    "papermill": {
     "duration": 0.024866,
     "end_time": "2024-01-19T16:31:49.233954",
     "exception": false,
     "start_time": "2024-01-19T16:31:49.209088",
     "status": "completed"
    },
    "tags": []
   },
   "outputs": [],
   "source": []
  }
 ],
 "metadata": {
  "kernelspec": {
   "display_name": "papermill-test-udrOzcHe-py3.10",
   "language": "python",
   "name": "python3"
  },
  "language_info": {
   "codemirror_mode": {
    "name": "ipython",
    "version": 3
   },
   "file_extension": ".py",
   "mimetype": "text/x-python",
   "name": "python",
   "nbconvert_exporter": "python",
   "pygments_lexer": "ipython3",
   "version": "3.10.2"
  },
  "papermill": {
   "default_parameters": {},
   "duration": 5.247779,
   "end_time": "2024-01-19T16:31:49.916510",
   "environment_variables": {},
   "exception": null,
   "input_path": "./main.ipynb",
   "output_path": "./output/output-notebook-3_14-5.ipynb",
   "parameters": {
    "pi": 3.14,
    "radius": 5
   },
   "start_time": "2024-01-19T16:31:44.668731",
   "version": "2.5.0"
  }
 },
 "nbformat": 4,
 "nbformat_minor": 5
}