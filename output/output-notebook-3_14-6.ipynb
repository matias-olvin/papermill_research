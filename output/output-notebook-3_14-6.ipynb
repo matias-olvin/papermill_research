{
 "cells": [
  {
   "cell_type": "code",
   "execution_count": 1,
   "id": "6cc51ddb",
   "metadata": {
    "execution": {
     "iopub.execute_input": "2024-01-19T16:31:46.872194Z",
     "iopub.status.busy": "2024-01-19T16:31:46.871489Z",
     "iopub.status.idle": "2024-01-19T16:31:46.892091Z",
     "shell.execute_reply": "2024-01-19T16:31:46.889741Z"
    },
    "papermill": {
     "duration": 0.032045,
     "end_time": "2024-01-19T16:31:46.896281",
     "exception": false,
     "start_time": "2024-01-19T16:31:46.864236",
     "status": "completed"
    },
    "tags": [
     "parameters"
    ]
   },
   "outputs": [],
   "source": [
    "pi = 3.14\n",
    "radius = 5"
   ]
  },
  {
   "cell_type": "code",
   "execution_count": 2,
   "id": "f190ae0f",
   "metadata": {
    "execution": {
     "iopub.execute_input": "2024-01-19T16:31:46.908552Z",
     "iopub.status.busy": "2024-01-19T16:31:46.908055Z",
     "iopub.status.idle": "2024-01-19T16:31:46.913662Z",
     "shell.execute_reply": "2024-01-19T16:31:46.911661Z"
    },
    "papermill": {
     "duration": 0.027913,
     "end_time": "2024-01-19T16:31:46.930912",
     "exception": false,
     "start_time": "2024-01-19T16:31:46.902999",
     "status": "completed"
    },
    "tags": [
     "injected-parameters"
    ]
   },
   "outputs": [],
   "source": [
    "# Parameters\n",
    "pi = 3.14\n",
    "radius = 6\n"
   ]
  },
  {
   "cell_type": "code",
   "execution_count": 3,
   "id": "20072337",
   "metadata": {
    "execution": {
     "iopub.execute_input": "2024-01-19T16:31:46.942939Z",
     "iopub.status.busy": "2024-01-19T16:31:46.942207Z",
     "iopub.status.idle": "2024-01-19T16:31:46.953876Z",
     "shell.execute_reply": "2024-01-19T16:31:46.952786Z"
    },
    "papermill": {
     "duration": 0.0381,
     "end_time": "2024-01-19T16:31:46.972783",
     "exception": false,
     "start_time": "2024-01-19T16:31:46.934683",
     "status": "completed"
    },
    "tags": []
   },
   "outputs": [
    {
     "data": {
      "text/plain": [
       "37.68"
      ]
     },
     "execution_count": 3,
     "metadata": {},
     "output_type": "execute_result"
    }
   ],
   "source": [
    "d = 2*pi*radius\n",
    "\n",
    "d"
   ]
  },
  {
   "cell_type": "code",
   "execution_count": 4,
   "id": "56ceeddf",
   "metadata": {
    "execution": {
     "iopub.execute_input": "2024-01-19T16:31:46.987984Z",
     "iopub.status.busy": "2024-01-19T16:31:46.986984Z",
     "iopub.status.idle": "2024-01-19T16:31:46.993643Z",
     "shell.execute_reply": "2024-01-19T16:31:46.992493Z"
    },
    "papermill": {
     "duration": 0.030536,
     "end_time": "2024-01-19T16:31:47.009243",
     "exception": false,
     "start_time": "2024-01-19T16:31:46.978707",
     "status": "completed"
    },
    "tags": []
   },
   "outputs": [
    {
     "data": {
      "text/plain": [
       "113.04"
      ]
     },
     "execution_count": 4,
     "metadata": {},
     "output_type": "execute_result"
    }
   ],
   "source": [
    "area = pi*radius**2\n",
    "\n",
    "area"
   ]
  },
  {
   "cell_type": "code",
   "execution_count": 5,
   "id": "6fc8c9cb",
   "metadata": {
    "execution": {
     "iopub.execute_input": "2024-01-19T16:31:47.026023Z",
     "iopub.status.busy": "2024-01-19T16:31:47.025066Z",
     "iopub.status.idle": "2024-01-19T16:31:47.819825Z",
     "shell.execute_reply": "2024-01-19T16:31:47.817046Z"
    },
    "papermill": {
     "duration": 0.812282,
     "end_time": "2024-01-19T16:31:47.826659",
     "exception": false,
     "start_time": "2024-01-19T16:31:47.014377",
     "status": "completed"
    },
    "tags": []
   },
   "outputs": [
    {
     "data": {
      "text/html": [
       "<div>\n",
       "<style scoped>\n",
       "    .dataframe tbody tr th:only-of-type {\n",
       "        vertical-align: middle;\n",
       "    }\n",
       "\n",
       "    .dataframe tbody tr th {\n",
       "        vertical-align: top;\n",
       "    }\n",
       "\n",
       "    .dataframe thead th {\n",
       "        text-align: right;\n",
       "    }\n",
       "</style>\n",
       "<table border=\"1\" class=\"dataframe\">\n",
       "  <thead>\n",
       "    <tr style=\"text-align: right;\">\n",
       "      <th></th>\n",
       "      <th>area</th>\n",
       "      <th>circumference</th>\n",
       "    </tr>\n",
       "  </thead>\n",
       "  <tbody>\n",
       "    <tr>\n",
       "      <th>0</th>\n",
       "      <td>113.04</td>\n",
       "      <td>37.68</td>\n",
       "    </tr>\n",
       "  </tbody>\n",
       "</table>\n",
       "</div>"
      ],
      "text/plain": [
       "     area  circumference\n",
       "0  113.04          37.68"
      ]
     },
     "execution_count": 5,
     "metadata": {},
     "output_type": "execute_result"
    }
   ],
   "source": [
    "import pandas as pd\n",
    "\n",
    "df = pd.DataFrame(data={\n",
    "    \"area\": [area],\n",
    "    \"circumference\": [d]\n",
    "})\n",
    "\n",
    "df"
   ]
  },
  {
   "cell_type": "code",
   "execution_count": 6,
   "id": "48357e0b",
   "metadata": {
    "execution": {
     "iopub.execute_input": "2024-01-19T16:31:47.845956Z",
     "iopub.status.busy": "2024-01-19T16:31:47.844913Z",
     "iopub.status.idle": "2024-01-19T16:31:49.346772Z",
     "shell.execute_reply": "2024-01-19T16:31:49.343758Z"
    },
    "papermill": {
     "duration": 1.535386,
     "end_time": "2024-01-19T16:31:49.369656",
     "exception": false,
     "start_time": "2024-01-19T16:31:47.834270",
     "status": "completed"
    },
    "tags": []
   },
   "outputs": [
    {
     "data": {
      "text/plain": [
       "<Axes: xlabel='area', ylabel='circumference'>"
      ]
     },
     "execution_count": 6,
     "metadata": {},
     "output_type": "execute_result"
    },
    {
     "data": {
      "image/png": "[encoded data removed]",
      "text/plain": [
       "<Figure size 640x480 with 1 Axes>"
      ]
     },
     "metadata": {},
     "output_type": "display_data"
    }
   ],
   "source": [
    "import seaborn as sns\n",
    "\n",
    "sns.scatterplot(x=df[\"area\"], y=df[\"circumference\"])"
   ]
  },
  {
   "cell_type": "code",
   "execution_count": null,
   "id": "039df358",
   "metadata": {
    "papermill": {
     "duration": 0.005636,
     "end_time": "2024-01-19T16:31:49.394741",
     "exception": false,
     "start_time": "2024-01-19T16:31:49.389105",
     "status": "completed"
    },
    "tags": []
   },
   "outputs": [],
   "source": []
  }
 ],
 "metadata": {
  "kernelspec": {
   "display_name": "papermill-test-udrOzcHe-py3.10",
   "language": "python",
   "name": "python3"
  },
  "language_info": {
   "codemirror_mode": {
    "name": "ipython",
    "version": 3
   },
   "file_extension": ".py",
   "mimetype": "text/x-python",
   "name": "python",
   "nbconvert_exporter": "python",
   "pygments_lexer": "ipython3",
   "version": "3.10.2"
  },
  "papermill": {
   "default_parameters": {},
   "duration": 5.381676,
   "end_time": "2024-01-19T16:31:50.048709",
   "environment_variables": {},
   "exception": null,
   "input_path": "./main.ipynb",
   "output_path": "./output/output-notebook-3_14-6.ipynb",
   "parameters": {
    "pi": 3.14,
    "radius": 6
   },
   "start_time": "2024-01-19T16:31:44.667033",
   "version": "2.5.0"
  }
 },
 "nbformat": 4,
 "nbformat_minor": 5
}