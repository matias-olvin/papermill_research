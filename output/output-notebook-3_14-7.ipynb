{
 "cells": [
  {
   "cell_type": "code",
   "execution_count": 1,
   "id": "b34a5294",
   "metadata": {
    "execution": {
     "iopub.execute_input": "2024-01-19T16:31:46.882973Z",
     "iopub.status.busy": "2024-01-19T16:31:46.881655Z",
     "iopub.status.idle": "2024-01-19T16:31:46.901670Z",
     "shell.execute_reply": "2024-01-19T16:31:46.899941Z"
    },
    "papermill": {
     "duration": 0.04417,
     "end_time": "2024-01-19T16:31:46.918232",
     "exception": false,
     "start_time": "2024-01-19T16:31:46.874062",
     "status": "completed"
    },
    "tags": [
     "parameters"
    ]
   },
   "outputs": [],
   "source": [
    "pi = 3.14\n",
    "radius = 5"
   ]
  },
  {
   "cell_type": "code",
   "execution_count": 2,
   "id": "052268d2",
   "metadata": {
    "execution": {
     "iopub.execute_input": "2024-01-19T16:31:46.930957Z",
     "iopub.status.busy": "2024-01-19T16:31:46.930214Z",
     "iopub.status.idle": "2024-01-19T16:31:46.936366Z",
     "shell.execute_reply": "2024-01-19T16:31:46.935118Z"
    },
    "papermill": {
     "duration": 0.024995,
     "end_time": "2024-01-19T16:31:46.947688",
     "exception": false,
     "start_time": "2024-01-19T16:31:46.922693",
     "status": "completed"
    },
    "tags": [
     "injected-parameters"
    ]
   },
   "outputs": [],
   "source": [
    "# Parameters\n",
    "pi = 3.14\n",
    "radius = 7\n"
   ]
  },
  {
   "cell_type": "code",
   "execution_count": 3,
   "id": "08f20eb0",
   "metadata": {
    "execution": {
     "iopub.execute_input": "2024-01-19T16:31:46.969799Z",
     "iopub.status.busy": "2024-01-19T16:31:46.968322Z",
     "iopub.status.idle": "2024-01-19T16:31:46.981631Z",
     "shell.execute_reply": "2024-01-19T16:31:46.978853Z"
    },
    "papermill": {
     "duration": 0.034652,
     "end_time": "2024-01-19T16:31:46.989593",
     "exception": false,
     "start_time": "2024-01-19T16:31:46.954941",
     "status": "completed"
    },
    "tags": []
   },
   "outputs": [
    {
     "data": {
      "text/plain": [
       "43.96"
      ]
     },
     "execution_count": 3,
     "metadata": {},
     "output_type": "execute_result"
    }
   ],
   "source": [
    "d = 2*pi*radius\n",
    "\n",
    "d"
   ]
  },
  {
   "cell_type": "code",
   "execution_count": 4,
   "id": "9935b6b7",
   "metadata": {
    "execution": {
     "iopub.execute_input": "2024-01-19T16:31:47.004765Z",
     "iopub.status.busy": "2024-01-19T16:31:47.004298Z",
     "iopub.status.idle": "2024-01-19T16:31:47.011474Z",
     "shell.execute_reply": "2024-01-19T16:31:47.010029Z"
    },
    "papermill": {
     "duration": 0.03492,
     "end_time": "2024-01-19T16:31:47.031794",
     "exception": false,
     "start_time": "2024-01-19T16:31:46.996874",
     "status": "completed"
    },
    "tags": []
   },
   "outputs": [
    {
     "data": {
      "text/plain": [
       "153.86"
      ]
     },
     "execution_count": 4,
     "metadata": {},
     "output_type": "execute_result"
    }
   ],
   "source": [
    "area = pi*radius**2\n",
    "\n",
    "area"
   ]
  },
  {
   "cell_type": "code",
   "execution_count": 5,
   "id": "67620b43",
   "metadata": {
    "execution": {
     "iopub.execute_input": "2024-01-19T16:31:47.049133Z",
     "iopub.status.busy": "2024-01-19T16:31:47.048449Z",
     "iopub.status.idle": "2024-01-19T16:31:47.818910Z",
     "shell.execute_reply": "2024-01-19T16:31:47.815535Z"
    },
    "papermill": {
     "duration": 0.794284,
     "end_time": "2024-01-19T16:31:47.829989",
     "exception": false,
     "start_time": "2024-01-19T16:31:47.035705",
     "status": "completed"
    },
    "tags": []
   },
   "outputs": [
    {
     "data": {
      "text/html": [
       "<div>\n",
       "<style scoped>\n",
       "    .dataframe tbody tr th:only-of-type {\n",
       "        vertical-align: middle;\n",
       "    }\n",
       "\n",
       "    .dataframe tbody tr th {\n",
       "        vertical-align: top;\n",
       "    }\n",
       "\n",
       "    .dataframe thead th {\n",
       "        text-align: right;\n",
       "    }\n",
       "</style>\n",
       "<table border=\"1\" class=\"dataframe\">\n",
       "  <thead>\n",
       "    <tr style=\"text-align: right;\">\n",
       "      <th></th>\n",
       "      <th>area</th>\n",
       "      <th>circumference</th>\n",
       "    </tr>\n",
       "  </thead>\n",
       "  <tbody>\n",
       "    <tr>\n",
       "      <th>0</th>\n",
       "      <td>153.86</td>\n",
       "      <td>43.96</td>\n",
       "    </tr>\n",
       "  </tbody>\n",
       "</table>\n",
       "</div>"
      ],
      "text/plain": [
       "     area  circumference\n",
       "0  153.86          43.96"
      ]
     },
     "execution_count": 5,
     "metadata": {},
     "output_type": "execute_result"
    }
   ],
   "source": [
    "import pandas as pd\n",
    "\n",
    "df = pd.DataFrame(data={\n",
    "    \"area\": [area],\n",
    "    \"circumference\": [d]\n",
    "})\n",
    "\n",
    "df"
   ]
  },
  {
   "cell_type": "code",
   "execution_count": 6,
   "id": "cb0fd23c",
   "metadata": {
    "execution": {
     "iopub.execute_input": "2024-01-19T16:31:47.845742Z",
     "iopub.status.busy": "2024-01-19T16:31:47.845185Z",
     "iopub.status.idle": "2024-01-19T16:31:49.335904Z",
     "shell.execute_reply": "2024-01-19T16:31:49.320755Z"
    },
    "papermill": {
     "duration": 1.514784,
     "end_time": "2024-01-19T16:31:49.352082",
     "exception": false,
     "start_time": "2024-01-19T16:31:47.837298",
     "status": "completed"
    },
    "tags": []
   },
   "outputs": [
    {
     "data": {
      "text/plain": [
       "<Axes: xlabel='area', ylabel='circumference'>"
      ]
     },
     "execution_count": 6,
     "metadata": {},
     "output_type": "execute_result"
    },
    {
     "data": {
      "image/png": "[encoded data removed]",
      "text/plain": [
       "<Figure size 640x480 with 1 Axes>"
      ]
     },
     "metadata": {},
     "output_type": "display_data"
    }
   ],
   "source": [
    "import seaborn as sns\n",
    "\n",
    "sns.scatterplot(x=df[\"area\"], y=df[\"circumference\"])"
   ]
  },
  {
   "cell_type": "code",
   "execution_count": null,
   "id": "2b0e27f7",
   "metadata": {
    "papermill": {
     "duration": 0.030215,
     "end_time": "2024-01-19T16:31:49.405703",
     "exception": false,
     "start_time": "2024-01-19T16:31:49.375488",
     "status": "completed"
    },
    "tags": []
   },
   "outputs": [],
   "source": []
  }
 ],
 "metadata": {
  "kernelspec": {
   "display_name": "papermill-test-udrOzcHe-py3.10",
   "language": "python",
   "name": "python3"
  },
  "language_info": {
   "codemirror_mode": {
    "name": "ipython",
    "version": 3
   },
   "file_extension": ".py",
   "mimetype": "text/x-python",
   "name": "python",
   "nbconvert_exporter": "python",
   "pygments_lexer": "ipython3",
   "version": "3.10.2"
  },
  "papermill": {
   "default_parameters": {},
   "duration": 5.497323,
   "end_time": "2024-01-19T16:31:50.152748",
   "environment_variables": {},
   "exception": null,
   "input_path": "./main.ipynb",
   "output_path": "./output/output-notebook-3_14-7.ipynb",
   "parameters": {
    "pi": 3.14,
    "radius": 7
   },
   "start_time": "2024-01-19T16:31:44.655425",
   "version": "2.5.0"
  }
 },
 "nbformat": 4,
 "nbformat_minor": 5
}