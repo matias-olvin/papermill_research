{
 "cells": [
  {
   "cell_type": "code",
   "execution_count": 1,
   "id": "2b1b97b3",
   "metadata": {
    "execution": {
     "iopub.execute_input": "2024-01-19T16:31:46.854724Z",
     "iopub.status.busy": "2024-01-19T16:31:46.854229Z",
     "iopub.status.idle": "2024-01-19T16:31:46.869205Z",
     "shell.execute_reply": "2024-01-19T16:31:46.867849Z"
    },
    "papermill": {
     "duration": 0.027185,
     "end_time": "2024-01-19T16:31:46.876154",
     "exception": false,
     "start_time": "2024-01-19T16:31:46.848969",
     "status": "completed"
    },
    "tags": [
     "parameters"
    ]
   },
   "outputs": [],
   "source": [
    "pi = 3.14\n",
    "radius = 5"
   ]
  },
  {
   "cell_type": "code",
   "execution_count": 2,
   "id": "3fed9f35",
   "metadata": {
    "execution": {
     "iopub.execute_input": "2024-01-19T16:31:46.890347Z",
     "iopub.status.busy": "2024-01-19T16:31:46.889309Z",
     "iopub.status.idle": "2024-01-19T16:31:46.895405Z",
     "shell.execute_reply": "2024-01-19T16:31:46.893279Z"
    },
    "papermill": {
     "duration": 0.027566,
     "end_time": "2024-01-19T16:31:46.908376",
     "exception": false,
     "start_time": "2024-01-19T16:31:46.880810",
     "status": "completed"
    },
    "tags": [
     "injected-parameters"
    ]
   },
   "outputs": [],
   "source": [
    "# Parameters\n",
    "pi = 3.14\n",
    "radius = 1\n"
   ]
  },
  {
   "cell_type": "code",
   "execution_count": 3,
   "id": "c8b00abd",
   "metadata": {
    "execution": {
     "iopub.execute_input": "2024-01-19T16:31:46.933040Z",
     "iopub.status.busy": "2024-01-19T16:31:46.932071Z",
     "iopub.status.idle": "2024-01-19T16:31:46.944009Z",
     "shell.execute_reply": "2024-01-19T16:31:46.942812Z"
    },
    "papermill": {
     "duration": 0.044374,
     "end_time": "2024-01-19T16:31:46.958270",
     "exception": false,
     "start_time": "2024-01-19T16:31:46.913896",
     "status": "completed"
    },
    "tags": []
   },
   "outputs": [
    {
     "data": {
      "text/plain": [
       "6.28"
      ]
     },
     "execution_count": 3,
     "metadata": {},
     "output_type": "execute_result"
    }
   ],
   "source": [
    "d = 2*pi*radius\n",
    "\n",
    "d"
   ]
  },
  {
   "cell_type": "code",
   "execution_count": 4,
   "id": "931864ab",
   "metadata": {
    "execution": {
     "iopub.execute_input": "2024-01-19T16:31:46.970953Z",
     "iopub.status.busy": "2024-01-19T16:31:46.969552Z",
     "iopub.status.idle": "2024-01-19T16:31:46.977284Z",
     "shell.execute_reply": "2024-01-19T16:31:46.976045Z"
    },
    "papermill": {
     "duration": 0.043948,
     "end_time": "2024-01-19T16:31:47.005244",
     "exception": false,
     "start_time": "2024-01-19T16:31:46.961296",
     "status": "completed"
    },
    "tags": []
   },
   "outputs": [
    {
     "data": {
      "text/plain": [
       "3.14"
      ]
     },
     "execution_count": 4,
     "metadata": {},
     "output_type": "execute_result"
    }
   ],
   "source": [
    "area = pi*radius**2\n",
    "\n",
    "area"
   ]
  },
  {
   "cell_type": "code",
   "execution_count": 5,
   "id": "d3c2242d",
   "metadata": {
    "execution": {
     "iopub.execute_input": "2024-01-19T16:31:47.036706Z",
     "iopub.status.busy": "2024-01-19T16:31:47.036165Z",
     "iopub.status.idle": "2024-01-19T16:31:47.807858Z",
     "shell.execute_reply": "2024-01-19T16:31:47.805878Z"
    },
    "papermill": {
     "duration": 0.791929,
     "end_time": "2024-01-19T16:31:47.810945",
     "exception": false,
     "start_time": "2024-01-19T16:31:47.019016",
     "status": "completed"
    },
    "tags": []
   },
   "outputs": [
    {
     "data": {
      "text/html": [
       "<div>\n",
       "<style scoped>\n",
       "    .dataframe tbody tr th:only-of-type {\n",
       "        vertical-align: middle;\n",
       "    }\n",
       "\n",
       "    .dataframe tbody tr th {\n",
       "        vertical-align: top;\n",
       "    }\n",
       "\n",
       "    .dataframe thead th {\n",
       "        text-align: right;\n",
       "    }\n",
       "</style>\n",
       "<table border=\"1\" class=\"dataframe\">\n",
       "  <thead>\n",
       "    <tr style=\"text-align: right;\">\n",
       "      <th></th>\n",
       "      <th>area</th>\n",
       "      <th>circumference</th>\n",
       "    </tr>\n",
       "  </thead>\n",
       "  <tbody>\n",
       "    <tr>\n",
       "      <th>0</th>\n",
       "      <td>3.14</td>\n",
       "      <td>6.28</td>\n",
       "    </tr>\n",
       "  </tbody>\n",
       "</table>\n",
       "</div>"
      ],
      "text/plain": [
       "   area  circumference\n",
       "0  3.14           6.28"
      ]
     },
     "execution_count": 5,
     "metadata": {},
     "output_type": "execute_result"
    }
   ],
   "source": [
    "import pandas as pd\n",
    "\n",
    "df = pd.DataFrame(data={\n",
    "    \"area\": [area],\n",
    "    \"circumference\": [d]\n",
    "})\n",
    "\n",
    "df"
   ]
  },
  {
   "cell_type": "code",
   "execution_count": 6,
   "id": "0b85cf52",
   "metadata": {
    "execution": {
     "iopub.execute_input": "2024-01-19T16:31:47.836203Z",
     "iopub.status.busy": "2024-01-19T16:31:47.835625Z",
     "iopub.status.idle": "2024-01-19T16:31:49.350229Z",
     "shell.execute_reply": "2024-01-19T16:31:49.345400Z"
    },
    "papermill": {
     "duration": 1.560009,
     "end_time": "2024-01-19T16:31:49.378767",
     "exception": false,
     "start_time": "2024-01-19T16:31:47.818758",
     "status": "completed"
    },
    "tags": []
   },
   "outputs": [
    {
     "data": {
      "text/plain": [
       "<Axes: xlabel='area', ylabel='circumference'>"
      ]
     },
     "execution_count": 6,
     "metadata": {},
     "output_type": "execute_result"
    },
    {
     "data": {
      "image/png": "[encoded data removed]",
      "text/plain": [
       "<Figure size 640x480 with 1 Axes>"
      ]
     },
     "metadata": {},
     "output_type": "display_data"
    }
   ],
   "source": [
    "import seaborn as sns\n",
    "\n",
    "sns.scatterplot(x=df[\"area\"], y=df[\"circumference\"])"
   ]
  },
  {
   "cell_type": "code",
   "execution_count": null,
   "id": "64e11a09",
   "metadata": {
    "papermill": {
     "duration": 0.017038,
     "end_time": "2024-01-19T16:31:49.400814",
     "exception": false,
     "start_time": "2024-01-19T16:31:49.383776",
     "status": "completed"
    },
    "tags": []
   },
   "outputs": [],
   "source": []
  }
 ],
 "metadata": {
  "kernelspec": {
   "display_name": "papermill-test-udrOzcHe-py3.10",
   "language": "python",
   "name": "python3"
  },
  "language_info": {
   "codemirror_mode": {
    "name": "ipython",
    "version": 3
   },
   "file_extension": ".py",
   "mimetype": "text/x-python",
   "name": "python",
   "nbconvert_exporter": "python",
   "pygments_lexer": "ipython3",
   "version": "3.10.2"
  },
  "papermill": {
   "default_parameters": {},
   "duration": 5.483414,
   "end_time": "2024-01-19T16:31:50.145465",
   "environment_variables": {},
   "exception": null,
   "input_path": "./main.ipynb",
   "output_path": "./output/output-notebook-3_14-1.ipynb",
   "parameters": {
    "pi": 3.14,
    "radius": 1
   },
   "start_time": "2024-01-19T16:31:44.662051",
   "version": "2.5.0"
  }
 },
 "nbformat": 4,
 "nbformat_minor": 5
}