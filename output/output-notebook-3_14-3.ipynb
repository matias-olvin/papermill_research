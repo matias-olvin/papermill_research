{
 "cells": [
  {
   "cell_type": "code",
   "execution_count": 1,
   "id": "752fc963",
   "metadata": {
    "execution": {
     "iopub.execute_input": "2024-01-19T16:31:46.659170Z",
     "iopub.status.busy": "2024-01-19T16:31:46.658719Z",
     "iopub.status.idle": "2024-01-19T16:31:46.672649Z",
     "shell.execute_reply": "2024-01-19T16:31:46.671682Z"
    },
    "papermill": {
     "duration": 0.039208,
     "end_time": "2024-01-19T16:31:46.684814",
     "exception": false,
     "start_time": "2024-01-19T16:31:46.645606",
     "status": "completed"
    },
    "tags": [
     "parameters"
    ]
   },
   "outputs": [],
   "source": [
    "pi = 3.14\n",
    "radius = 5"
   ]
  },
  {
   "cell_type": "code",
   "execution_count": 2,
   "id": "59b1469e",
   "metadata": {
    "execution": {
     "iopub.execute_input": "2024-01-19T16:31:46.699882Z",
     "iopub.status.busy": "2024-01-19T16:31:46.699353Z",
     "iopub.status.idle": "2024-01-19T16:31:46.704346Z",
     "shell.execute_reply": "2024-01-19T16:31:46.702923Z"
    },
    "papermill": {
     "duration": 0.018934,
     "end_time": "2024-01-19T16:31:46.711659",
     "exception": false,
     "start_time": "2024-01-19T16:31:46.692725",
     "status": "completed"
    },
    "tags": [
     "injected-parameters"
    ]
   },
   "outputs": [],
   "source": [
    "# Parameters\n",
    "pi = 3.14\n",
    "radius = 3\n"
   ]
  },
  {
   "cell_type": "code",
   "execution_count": 3,
   "id": "1bf06319",
   "metadata": {
    "execution": {
     "iopub.execute_input": "2024-01-19T16:31:46.724028Z",
     "iopub.status.busy": "2024-01-19T16:31:46.723649Z",
     "iopub.status.idle": "2024-01-19T16:31:46.735229Z",
     "shell.execute_reply": "2024-01-19T16:31:46.733823Z"
    },
    "papermill": {
     "duration": 0.023631,
     "end_time": "2024-01-19T16:31:46.740157",
     "exception": false,
     "start_time": "2024-01-19T16:31:46.716526",
     "status": "completed"
    },
    "tags": []
   },
   "outputs": [
    {
     "data": {
      "text/plain": [
       "18.84"
      ]
     },
     "execution_count": 3,
     "metadata": {},
     "output_type": "execute_result"
    }
   ],
   "source": [
    "d = 2*pi*radius\n",
    "\n",
    "d"
   ]
  },
  {
   "cell_type": "code",
   "execution_count": 4,
   "id": "cc552fbb",
   "metadata": {
    "execution": {
     "iopub.execute_input": "2024-01-19T16:31:46.751576Z",
     "iopub.status.busy": "2024-01-19T16:31:46.751081Z",
     "iopub.status.idle": "2024-01-19T16:31:46.758981Z",
     "shell.execute_reply": "2024-01-19T16:31:46.757976Z"
    },
    "papermill": {
     "duration": 0.01991,
     "end_time": "2024-01-19T16:31:46.764786",
     "exception": false,
     "start_time": "2024-01-19T16:31:46.744876",
     "status": "completed"
    },
    "tags": []
   },
   "outputs": [
    {
     "data": {
      "text/plain": [
       "28.26"
      ]
     },
     "execution_count": 4,
     "metadata": {},
     "output_type": "execute_result"
    }
   ],
   "source": [
    "area = pi*radius**2\n",
    "\n",
    "area"
   ]
  },
  {
   "cell_type": "code",
   "execution_count": 5,
   "id": "04d4da1f",
   "metadata": {
    "execution": {
     "iopub.execute_input": "2024-01-19T16:31:46.779625Z",
     "iopub.status.busy": "2024-01-19T16:31:46.778861Z",
     "iopub.status.idle": "2024-01-19T16:31:47.640962Z",
     "shell.execute_reply": "2024-01-19T16:31:47.638905Z"
    },
    "papermill": {
     "duration": 0.872488,
     "end_time": "2024-01-19T16:31:47.644460",
     "exception": false,
     "start_time": "2024-01-19T16:31:46.771972",
     "status": "completed"
    },
    "tags": []
   },
   "outputs": [
    {
     "data": {
      "text/html": [
       "<div>\n",
       "<style scoped>\n",
       "    .dataframe tbody tr th:only-of-type {\n",
       "        vertical-align: middle;\n",
       "    }\n",
       "\n",
       "    .dataframe tbody tr th {\n",
       "        vertical-align: top;\n",
       "    }\n",
       "\n",
       "    .dataframe thead th {\n",
       "        text-align: right;\n",
       "    }\n",
       "</style>\n",
       "<table border=\"1\" class=\"dataframe\">\n",
       "  <thead>\n",
       "    <tr style=\"text-align: right;\">\n",
       "      <th></th>\n",
       "      <th>area</th>\n",
       "      <th>circumference</th>\n",
       "    </tr>\n",
       "  </thead>\n",
       "  <tbody>\n",
       "    <tr>\n",
       "      <th>0</th>\n",
       "      <td>28.26</td>\n",
       "      <td>18.84</td>\n",
       "    </tr>\n",
       "  </tbody>\n",
       "</table>\n",
       "</div>"
      ],
      "text/plain": [
       "    area  circumference\n",
       "0  28.26          18.84"
      ]
     },
     "execution_count": 5,
     "metadata": {},
     "output_type": "execute_result"
    }
   ],
   "source": [
    "import pandas as pd\n",
    "\n",
    "df = pd.DataFrame(data={\n",
    "    \"area\": [area],\n",
    "    \"circumference\": [d]\n",
    "})\n",
    "\n",
    "df"
   ]
  },
  {
   "cell_type": "code",
   "execution_count": 6,
   "id": "3a1d5bf4",
   "metadata": {
    "execution": {
     "iopub.execute_input": "2024-01-19T16:31:47.654325Z",
     "iopub.status.busy": "2024-01-19T16:31:47.653609Z",
     "iopub.status.idle": "2024-01-19T16:31:49.175805Z",
     "shell.execute_reply": "2024-01-19T16:31:49.168356Z"
    },
    "papermill": {
     "duration": 1.53925,
     "end_time": "2024-01-19T16:31:49.187596",
     "exception": false,
     "start_time": "2024-01-19T16:31:47.648346",
     "status": "completed"
    },
    "tags": []
   },
   "outputs": [
    {
     "data": {
      "text/plain": [
       "<Axes: xlabel='area', ylabel='circumference'>"
      ]
     },
     "execution_count": 6,
     "metadata": {},
     "output_type": "execute_result"
    },
    {
     "data": {
      "image/png": "[encoded data removed]",
      "text/plain": [
       "<Figure size 640x480 with 1 Axes>"
      ]
     },
     "metadata": {},
     "output_type": "display_data"
    }
   ],
   "source": [
    "import seaborn as sns\n",
    "\n",
    "sns.scatterplot(x=df[\"area\"], y=df[\"circumference\"])"
   ]
  },
  {
   "cell_type": "code",
   "execution_count": null,
   "id": "0042aecd",
   "metadata": {
    "papermill": {
     "duration": 0.023552,
     "end_time": "2024-01-19T16:31:49.241740",
     "exception": false,
     "start_time": "2024-01-19T16:31:49.218188",
     "status": "completed"
    },
    "tags": []
   },
   "outputs": [],
   "source": []
  }
 ],
 "metadata": {
  "kernelspec": {
   "display_name": "papermill-test-udrOzcHe-py3.10",
   "language": "python",
   "name": "python3"
  },
  "language_info": {
   "codemirror_mode": {
    "name": "ipython",
    "version": 3
   },
   "file_extension": ".py",
   "mimetype": "text/x-python",
   "name": "python",
   "nbconvert_exporter": "python",
   "pygments_lexer": "ipython3",
   "version": "3.10.2"
  },
  "papermill": {
   "default_parameters": {},
   "duration": 5.246718,
   "end_time": "2024-01-19T16:31:49.905687",
   "environment_variables": {},
   "exception": null,
   "input_path": "./main.ipynb",
   "output_path": "./output/output-notebook-3_14-3.ipynb",
   "parameters": {
    "pi": 3.14,
    "radius": 3
   },
   "start_time": "2024-01-19T16:31:44.658969",
   "version": "2.5.0"
  }
 },
 "nbformat": 4,
 "nbformat_minor": 5
}