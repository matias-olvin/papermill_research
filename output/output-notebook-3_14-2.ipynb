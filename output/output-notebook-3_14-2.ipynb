{
 "cells": [
  {
   "cell_type": "code",
   "execution_count": 1,
   "id": "40fab422",
   "metadata": {
    "execution": {
     "iopub.execute_input": "2024-01-19T16:31:46.605295Z",
     "iopub.status.busy": "2024-01-19T16:31:46.604858Z",
     "iopub.status.idle": "2024-01-19T16:31:46.617053Z",
     "shell.execute_reply": "2024-01-19T16:31:46.616032Z"
    },
    "papermill": {
     "duration": 0.019631,
     "end_time": "2024-01-19T16:31:46.620971",
     "exception": false,
     "start_time": "2024-01-19T16:31:46.601340",
     "status": "completed"
    },
    "tags": [
     "parameters"
    ]
   },
   "outputs": [],
   "source": [
    "pi = 3.14\n",
    "radius = 5"
   ]
  },
  {
   "cell_type": "code",
   "execution_count": 2,
   "id": "359d1b24",
   "metadata": {
    "execution": {
     "iopub.execute_input": "2024-01-19T16:31:46.627676Z",
     "iopub.status.busy": "2024-01-19T16:31:46.627283Z",
     "iopub.status.idle": "2024-01-19T16:31:46.631613Z",
     "shell.execute_reply": "2024-01-19T16:31:46.630741Z"
    },
    "papermill": {
     "duration": 0.018219,
     "end_time": "2024-01-19T16:31:46.641541",
     "exception": false,
     "start_time": "2024-01-19T16:31:46.623322",
     "status": "completed"
    },
    "tags": [
     "injected-parameters"
    ]
   },
   "outputs": [],
   "source": [
    "# Parameters\n",
    "pi = 3.14\n",
    "radius = 2\n"
   ]
  },
  {
   "cell_type": "code",
   "execution_count": 3,
   "id": "29e42843",
   "metadata": {
    "execution": {
     "iopub.execute_input": "2024-01-19T16:31:46.663575Z",
     "iopub.status.busy": "2024-01-19T16:31:46.663122Z",
     "iopub.status.idle": "2024-01-19T16:31:46.674622Z",
     "shell.execute_reply": "2024-01-19T16:31:46.673576Z"
    },
    "papermill": {
     "duration": 0.036252,
     "end_time": "2024-01-19T16:31:46.690496",
     "exception": false,
     "start_time": "2024-01-19T16:31:46.654244",
     "status": "completed"
    },
    "tags": []
   },
   "outputs": [
    {
     "data": {
      "text/plain": [
       "12.56"
      ]
     },
     "execution_count": 3,
     "metadata": {},
     "output_type": "execute_result"
    }
   ],
   "source": [
    "d = 2*pi*radius\n",
    "\n",
    "d"
   ]
  },
  {
   "cell_type": "code",
   "execution_count": 4,
   "id": "fa638d54",
   "metadata": {
    "execution": {
     "iopub.execute_input": "2024-01-19T16:31:46.703295Z",
     "iopub.status.busy": "2024-01-19T16:31:46.702553Z",
     "iopub.status.idle": "2024-01-19T16:31:46.709022Z",
     "shell.execute_reply": "2024-01-19T16:31:46.708059Z"
    },
    "papermill": {
     "duration": 0.024512,
     "end_time": "2024-01-19T16:31:46.719317",
     "exception": false,
     "start_time": "2024-01-19T16:31:46.694805",
     "status": "completed"
    },
    "tags": []
   },
   "outputs": [
    {
     "data": {
      "text/plain": [
       "12.56"
      ]
     },
     "execution_count": 4,
     "metadata": {},
     "output_type": "execute_result"
    }
   ],
   "source": [
    "area = pi*radius**2\n",
    "\n",
    "area"
   ]
  },
  {
   "cell_type": "code",
   "execution_count": 5,
   "id": "60100072",
   "metadata": {
    "execution": {
     "iopub.execute_input": "2024-01-19T16:31:46.727929Z",
     "iopub.status.busy": "2024-01-19T16:31:46.727491Z",
     "iopub.status.idle": "2024-01-19T16:31:47.555771Z",
     "shell.execute_reply": "2024-01-19T16:31:47.554297Z"
    },
    "papermill": {
     "duration": 0.846728,
     "end_time": "2024-01-19T16:31:47.569521",
     "exception": false,
     "start_time": "2024-01-19T16:31:46.722793",
     "status": "completed"
    },
    "tags": []
   },
   "outputs": [
    {
     "data": {
      "text/html": [
       "<div>\n",
       "<style scoped>\n",
       "    .dataframe tbody tr th:only-of-type {\n",
       "        vertical-align: middle;\n",
       "    }\n",
       "\n",
       "    .dataframe tbody tr th {\n",
       "        vertical-align: top;\n",
       "    }\n",
       "\n",
       "    .dataframe thead th {\n",
       "        text-align: right;\n",
       "    }\n",
       "</style>\n",
       "<table border=\"1\" class=\"dataframe\">\n",
       "  <thead>\n",
       "    <tr style=\"text-align: right;\">\n",
       "      <th></th>\n",
       "      <th>area</th>\n",
       "      <th>circumference</th>\n",
       "    </tr>\n",
       "  </thead>\n",
       "  <tbody>\n",
       "    <tr>\n",
       "      <th>0</th>\n",
       "      <td>12.56</td>\n",
       "      <td>12.56</td>\n",
       "    </tr>\n",
       "  </tbody>\n",
       "</table>\n",
       "</div>"
      ],
      "text/plain": [
       "    area  circumference\n",
       "0  12.56          12.56"
      ]
     },
     "execution_count": 5,
     "metadata": {},
     "output_type": "execute_result"
    }
   ],
   "source": [
    "import pandas as pd\n",
    "\n",
    "df = pd.DataFrame(data={\n",
    "    \"area\": [area],\n",
    "    \"circumference\": [d]\n",
    "})\n",
    "\n",
    "df"
   ]
  },
  {
   "cell_type": "code",
   "execution_count": 6,
   "id": "d192b9c8",
   "metadata": {
    "execution": {
     "iopub.execute_input": "2024-01-19T16:31:47.590921Z",
     "iopub.status.busy": "2024-01-19T16:31:47.590339Z",
     "iopub.status.idle": "2024-01-19T16:31:49.151329Z",
     "shell.execute_reply": "2024-01-19T16:31:49.149807Z"
    },
    "papermill": {
     "duration": 1.580245,
     "end_time": "2024-01-19T16:31:49.156134",
     "exception": false,
     "start_time": "2024-01-19T16:31:47.575889",
     "status": "completed"
    },
    "tags": []
   },
   "outputs": [
    {
     "data": {
      "text/plain": [
       "<Axes: xlabel='area', ylabel='circumference'>"
      ]
     },
     "execution_count": 6,
     "metadata": {},
     "output_type": "execute_result"
    },
    {
     "data": {
      "image/png": "[encoded data removed]",
      "text/plain": [
       "<Figure size 640x480 with 1 Axes>"
      ]
     },
     "metadata": {},
     "output_type": "display_data"
    }
   ],
   "source": [
    "import seaborn as sns\n",
    "\n",
    "sns.scatterplot(x=df[\"area\"], y=df[\"circumference\"])"
   ]
  },
  {
   "cell_type": "code",
   "execution_count": null,
   "id": "3e9880a5",
   "metadata": {
    "papermill": {
     "duration": 0.012981,
     "end_time": "2024-01-19T16:31:49.174512",
     "exception": false,
     "start_time": "2024-01-19T16:31:49.161531",
     "status": "completed"
    },
    "tags": []
   },
   "outputs": [],
   "source": []
  }
 ],
 "metadata": {
  "kernelspec": {
   "display_name": "papermill-test-udrOzcHe-py3.10",
   "language": "python",
   "name": "python3"
  },
  "language_info": {
   "codemirror_mode": {
    "name": "ipython",
    "version": 3
   },
   "file_extension": ".py",
   "mimetype": "text/x-python",
   "name": "python",
   "nbconvert_exporter": "python",
   "pygments_lexer": "ipython3",
   "version": "3.10.2"
  },
  "papermill": {
   "default_parameters": {},
   "duration": 5.172232,
   "end_time": "2024-01-19T16:31:49.836121",
   "environment_variables": {},
   "exception": null,
   "input_path": "./main.ipynb",
   "output_path": "./output/output-notebook-3_14-2.ipynb",
   "parameters": {
    "pi": 3.14,
    "radius": 2
   },
   "start_time": "2024-01-19T16:31:44.663889",
   "version": "2.5.0"
  }
 },
 "nbformat": 4,
 "nbformat_minor": 5
}