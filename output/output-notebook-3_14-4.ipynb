{
 "cells": [
  {
   "cell_type": "code",
   "execution_count": 1,
   "id": "f715861a",
   "metadata": {
    "execution": {
     "iopub.execute_input": "2024-01-19T16:31:46.749418Z",
     "iopub.status.busy": "2024-01-19T16:31:46.748967Z",
     "iopub.status.idle": "2024-01-19T16:31:46.762759Z",
     "shell.execute_reply": "2024-01-19T16:31:46.761530Z"
    },
    "papermill": {
     "duration": 0.026881,
     "end_time": "2024-01-19T16:31:46.769661",
     "exception": false,
     "start_time": "2024-01-19T16:31:46.742780",
     "status": "completed"
    },
    "tags": [
     "parameters"
    ]
   },
   "outputs": [],
   "source": [
    "pi = 3.14\n",
    "radius = 5"
   ]
  },
  {
   "cell_type": "code",
   "execution_count": 2,
   "id": "82e3b064",
   "metadata": {
    "execution": {
     "iopub.execute_input": "2024-01-19T16:31:46.782846Z",
     "iopub.status.busy": "2024-01-19T16:31:46.780284Z",
     "iopub.status.idle": "2024-01-19T16:31:46.788256Z",
     "shell.execute_reply": "2024-01-19T16:31:46.787149Z"
    },
    "papermill": {
     "duration": 0.015938,
     "end_time": "2024-01-19T16:31:46.791584",
     "exception": false,
     "start_time": "2024-01-19T16:31:46.775646",
     "status": "completed"
    },
    "tags": [
     "injected-parameters"
    ]
   },
   "outputs": [],
   "source": [
    "# Parameters\n",
    "pi = 3.14\n",
    "radius = 4\n"
   ]
  },
  {
   "cell_type": "code",
   "execution_count": 3,
   "id": "608c996c",
   "metadata": {
    "execution": {
     "iopub.execute_input": "2024-01-19T16:31:46.799218Z",
     "iopub.status.busy": "2024-01-19T16:31:46.798763Z",
     "iopub.status.idle": "2024-01-19T16:31:46.808887Z",
     "shell.execute_reply": "2024-01-19T16:31:46.807879Z"
    },
    "papermill": {
     "duration": 0.017796,
     "end_time": "2024-01-19T16:31:46.812174",
     "exception": false,
     "start_time": "2024-01-19T16:31:46.794378",
     "status": "completed"
    },
    "tags": []
   },
   "outputs": [
    {
     "data": {
      "text/plain": [
       "25.12"
      ]
     },
     "execution_count": 3,
     "metadata": {},
     "output_type": "execute_result"
    }
   ],
   "source": [
    "d = 2*pi*radius\n",
    "\n",
    "d"
   ]
  },
  {
   "cell_type": "code",
   "execution_count": 4,
   "id": "2f638069",
   "metadata": {
    "execution": {
     "iopub.execute_input": "2024-01-19T16:31:46.822047Z",
     "iopub.status.busy": "2024-01-19T16:31:46.820711Z",
     "iopub.status.idle": "2024-01-19T16:31:46.828464Z",
     "shell.execute_reply": "2024-01-19T16:31:46.827262Z"
    },
    "papermill": {
     "duration": 0.017304,
     "end_time": "2024-01-19T16:31:46.832543",
     "exception": false,
     "start_time": "2024-01-19T16:31:46.815239",
     "status": "completed"
    },
    "tags": []
   },
   "outputs": [
    {
     "data": {
      "text/plain": [
       "50.24"
      ]
     },
     "execution_count": 4,
     "metadata": {},
     "output_type": "execute_result"
    }
   ],
   "source": [
    "area = pi*radius**2\n",
    "\n",
    "area"
   ]
  },
  {
   "cell_type": "code",
   "execution_count": 5,
   "id": "eec6d55c",
   "metadata": {
    "execution": {
     "iopub.execute_input": "2024-01-19T16:31:46.841974Z",
     "iopub.status.busy": "2024-01-19T16:31:46.841238Z",
     "iopub.status.idle": "2024-01-19T16:31:47.672557Z",
     "shell.execute_reply": "2024-01-19T16:31:47.667693Z"
    },
    "papermill": {
     "duration": 0.840035,
     "end_time": "2024-01-19T16:31:47.675933",
     "exception": false,
     "start_time": "2024-01-19T16:31:46.835898",
     "status": "completed"
    },
    "tags": []
   },
   "outputs": [
    {
     "data": {
      "text/html": [
       "<div>\n",
       "<style scoped>\n",
       "    .dataframe tbody tr th:only-of-type {\n",
       "        vertical-align: middle;\n",
       "    }\n",
       "\n",
       "    .dataframe tbody tr th {\n",
       "        vertical-align: top;\n",
       "    }\n",
       "\n",
       "    .dataframe thead th {\n",
       "        text-align: right;\n",
       "    }\n",
       "</style>\n",
       "<table border=\"1\" class=\"dataframe\">\n",
       "  <thead>\n",
       "    <tr style=\"text-align: right;\">\n",
       "      <th></th>\n",
       "      <th>area</th>\n",
       "      <th>circumference</th>\n",
       "    </tr>\n",
       "  </thead>\n",
       "  <tbody>\n",
       "    <tr>\n",
       "      <th>0</th>\n",
       "      <td>50.24</td>\n",
       "      <td>25.12</td>\n",
       "    </tr>\n",
       "  </tbody>\n",
       "</table>\n",
       "</div>"
      ],
      "text/plain": [
       "    area  circumference\n",
       "0  50.24          25.12"
      ]
     },
     "execution_count": 5,
     "metadata": {},
     "output_type": "execute_result"
    }
   ],
   "source": [
    "import pandas as pd\n",
    "\n",
    "df = pd.DataFrame(data={\n",
    "    \"area\": [area],\n",
    "    \"circumference\": [d]\n",
    "})\n",
    "\n",
    "df"
   ]
  },
  {
   "cell_type": "code",
   "execution_count": 6,
   "id": "2d5e4312",
   "metadata": {
    "execution": {
     "iopub.execute_input": "2024-01-19T16:31:47.690365Z",
     "iopub.status.busy": "2024-01-19T16:31:47.689342Z",
     "iopub.status.idle": "2024-01-19T16:31:49.193307Z",
     "shell.execute_reply": "2024-01-19T16:31:49.191483Z"
    },
    "papermill": {
     "duration": 1.543441,
     "end_time": "2024-01-19T16:31:49.223243",
     "exception": false,
     "start_time": "2024-01-19T16:31:47.679802",
     "status": "completed"
    },
    "tags": []
   },
   "outputs": [
    {
     "data": {
      "text/plain": [
       "<Axes: xlabel='area', ylabel='circumference'>"
      ]
     },
     "execution_count": 6,
     "metadata": {},
     "output_type": "execute_result"
    },
    {
     "data": {
      "image/png": "[encoded data removed]",
      "text/plain": [
       "<Figure size 640x480 with 1 Axes>"
      ]
     },
     "metadata": {},
     "output_type": "display_data"
    }
   ],
   "source": [
    "import seaborn as sns\n",
    "\n",
    "sns.scatterplot(x=df[\"area\"], y=df[\"circumference\"])"
   ]
  },
  {
   "cell_type": "code",
   "execution_count": null,
   "id": "4054fce3",
   "metadata": {
    "papermill": {
     "duration": 0.011414,
     "end_time": "2024-01-19T16:31:49.249228",
     "exception": false,
     "start_time": "2024-01-19T16:31:49.237814",
     "status": "completed"
    },
    "tags": []
   },
   "outputs": [],
   "source": []
  }
 ],
 "metadata": {
  "kernelspec": {
   "display_name": "papermill-test-udrOzcHe-py3.10",
   "language": "python",
   "name": "python3"
  },
  "language_info": {
   "codemirror_mode": {
    "name": "ipython",
    "version": 3
   },
   "file_extension": ".py",
   "mimetype": "text/x-python",
   "name": "python",
   "nbconvert_exporter": "python",
   "pygments_lexer": "ipython3",
   "version": "3.10.2"
  },
  "papermill": {
   "default_parameters": {},
   "duration": 5.257718,
   "end_time": "2024-01-19T16:31:49.910503",
   "environment_variables": {},
   "exception": null,
   "input_path": "./main.ipynb",
   "output_path": "./output/output-notebook-3_14-4.ipynb",
   "parameters": {
    "pi": 3.14,
    "radius": 4
   },
   "start_time": "2024-01-19T16:31:44.652785",
   "version": "2.5.0"
  }
 },
 "nbformat": 4,
 "nbformat_minor": 5
}